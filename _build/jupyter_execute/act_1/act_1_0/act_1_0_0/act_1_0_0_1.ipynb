{
 "cells": [
  {
   "cell_type": "markdown",
   "metadata": {},
   "source": [
    "# \n",
    "\n",
    "# 1\n",
    "\n",
    "Some resources to help define frailty using NIS & NRD\n",
    "\n",
    "- [hopkinsacg](https://www.hopkinsacg.org/documents/system-documentation/)\n",
    "- [The effect of frailty on short-term outcomes after head and neck cancer surgery](https://pubmed.ncbi.nlm.nih.gov/28731497/)\n",
    "- Association of Frailty with Clinical Outcomes and Resource Use Following Kidney Transplantation\n",
    "\n",
    "The latter is under peer review but is what led me to these other resources\n",
    "\n"
   ]
  }
 ],
 "metadata": {
  "kernelspec": {
   "display_name": "Python 3",
   "language": "python",
   "name": "python3"
  },
  "language_info": {
   "codemirror_mode": {
    "name": "ipython",
    "version": 3
   },
   "file_extension": ".py",
   "mimetype": "text/x-python",
   "name": "python",
   "nbconvert_exporter": "python",
   "pygments_lexer": "ipython3",
   "version": "3.11.2"
  }
 },
 "nbformat": 4,
 "nbformat_minor": 2
}