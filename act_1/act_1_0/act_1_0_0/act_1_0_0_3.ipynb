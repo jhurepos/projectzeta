{
 "cells": [
  {
   "cell_type": "markdown",
   "metadata": {},
   "source": [
    "# \n",
    "\n",
    "# 3\n",
    "\n",
    "<h4>Leveraging NHATS to examine the social connections of older adults</h4>\n",
    "\n",
    "- Thomas Cudjoe*\n",
    "- Mengyao Hu\n",
    "- Jennifer Schrack\n",
    "- Sarah Patterson (Michigan)\n",
    "\n",
    "1. Silos (social isolation and loneliness in older adults)\n",
    "   - Church\n",
    "   - Family\n",
    "   - Physical frailty\n",
    "   - Not able to get out\n",
    "   - Medical providers (doctors, nurses, etc.) miss this information\n",
    "\n",
    "2. Mortality\n",
    "   - Berkman and Syme 1979 (Social networks, host resistance, and mortality: a nine-year follow-up study of Alameda County residents)\n",
    "   - Holt-Lunstad et al. 2010 (Social Relationships and Mortality Risk: A Meta-analytic Review)\n",
    "    - Holt-Lunstad et al. 2015 (Loneliness and Social Isolation as Risk Factors for Mortality: A Meta-Analytic Review)\n",
    "   - Emil Durkheim (links loneliness to mortality from suicide)\n",
    "\n",
    "3. Risk\n",
    "   - Social relationships rival effects of cigarettes on health and mortality (is thus deadly)\n",
    "   - In otherwords the Apollonian cohesive forces are central to health? \n",
    "   - Perhaps mostly in the Frail?? \n",
    "\n",
    "4. Equivalence\n",
    "   - Social isolation $\\neq$ loneliness\n",
    "   - One is chosen (agency not an issue), the other is forced on you (frailty takes away agency?)\n",
    "\n",
    "5. Care\n",
    "   - Leverage NHATS to leverage those data\n",
    "   - Many measures of social isolation\n",
    "   - NHANES Pantell 2013 (married or living with someone)\n",
    "\n",
    "---\n",
    "\n",
    "1. <span style=\"color:lightpink;\">Homeostasis</span>\n",
    "2. <span style=\"color:lightyellow;\">Allostasis</span>\n",
    "3. <span style=\"color:lightgreen;\">Sociostasis</span>\n",
    "   - Going through difficult times with no support \n",
    "\n",
    "4. Corinna: Senory and Cognitive impairments in Hispanic communities\n",
    "5. For Hispanic culture ask more about family, picnics, etc that are common\n",
    "6. In-group and between-group differences exist and we leverage insights from across - Thomas Cudjoe\n",
    "\n"
   ]
  }
 ],
 "metadata": {
  "kernelspec": {
   "display_name": "Python 3",
   "language": "python",
   "name": "python3"
  },
  "language_info": {
   "codemirror_mode": {
    "name": "ipython",
    "version": 3
   },
   "file_extension": ".py",
   "mimetype": "text/x-python",
   "name": "python",
   "nbconvert_exporter": "python",
   "pygments_lexer": "ipython3",
   "version": "3.11.2"
  },
  "orig_nbformat": 4
 },
 "nbformat": 4,
 "nbformat_minor": 2
}
